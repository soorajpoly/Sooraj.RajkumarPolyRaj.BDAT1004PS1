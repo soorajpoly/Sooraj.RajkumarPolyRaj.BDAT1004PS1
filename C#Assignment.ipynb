{
 "cells": [
  {
   "cell_type": "markdown",
   "id": "b9f286cb-7257-44f2-96c9-64438a252ba3",
   "metadata": {},
   "source": [
    "Question 1 C#\n",
    "What data type is each of the following?\n"
   ]
  },
  {
   "cell_type": "markdown",
   "id": "62983a2b-8236-41c9-8934-77fac770f45b",
   "metadata": {},
   "source": [
    "5-->int\n",
    "5.0-->double\n",
    "5 > 1-->bool\n",
    "'5'-->char\n",
    "5 * 2-->int\n",
    "'5' * 2-->int\n",
    "'5' + '2'-->int\n",
    "5 / 2-->int\n",
    "5%2-->int\n",
    "{5, 2, 1}-->array\n",
    "5== 3-->bool\n",
    "Pi(the number)-->double"
   ]
  },
  {
   "cell_type": "markdown",
   "id": "e41e12e1-a965-4e7b-8f7b-556d4b281fae",
   "metadata": {},
   "source": [
    "Question 2 C#\n",
    "Write (and evaluate) C# expressions that answer these questions:\n",
    "a. How many letters are there in 'Supercalifragilisticexpialidocious'?\n"
   ]
  },
  {
   "cell_type": "code",
   "execution_count": 5,
   "id": "20fcc38a-7df7-44cf-8f29-12d4b37e3720",
   "metadata": {},
   "outputs": [
    {
     "name": "stdout",
     "output_type": "stream",
     "text": [
      "The number of letters is: 34\n"
     ]
    }
   ],
   "source": [
    "string word= \"Supercalifragilisticexpialidocious\";\n",
    "int Count = word.Length;\n",
    "Console.WriteLine(\"The number of letters is: \"+Count);\n"
   ]
  },
  {
   "cell_type": "markdown",
   "id": "6646df5c-a8ea-48ae-9c87-93b69e6618fd",
   "metadata": {},
   "source": [
    "b. Does 'Supercalifragilisticexpialidocious' contain 'ice' as a substring?"
   ]
  },
  {
   "cell_type": "code",
   "execution_count": 6,
   "id": "56332864-3a4b-4bf7-af99-4767f50102b4",
   "metadata": {},
   "outputs": [
    {
     "name": "stdout",
     "output_type": "stream",
     "text": [
      "Does the word contain 'ice'?True\n"
     ]
    }
   ],
   "source": [
    "string word= \"Supercalifragilisticexpialidocious\";\n",
    "bool contains = word.Contains(\"ice\");\n",
    "Console.WriteLine(\"Does the word contain 'ice'?\" + contains);\n"
   ]
  },
  {
   "cell_type": "markdown",
   "id": "dd21ff43-0e44-4281-b197-00c36493e9be",
   "metadata": {},
   "source": [
    "c. Which of the following words is the longest:\n",
    "Supercalifragilisticexpialidocious, Honorificabilitudinitatibus, or\n",
    "Bababadalgharaghtakamminarronnkonn?"
   ]
  },
  {
   "cell_type": "code",
   "execution_count": 1,
   "id": "abe0277d-5ce7-4370-a329-7acfa9ac5572",
   "metadata": {},
   "outputs": [
    {
     "data": {
      "text/html": [
       "\r\n",
       "<div>\r\n",
       "    <div id='dotnet-interactive-this-cell-20692.Microsoft.DotNet.Interactive.Http.HttpPort' style='display: none'>\r\n",
       "        The below script needs to be able to find the current output cell; this is an easy method to get it.\r\n",
       "    </div>\r\n",
       "    <script type='text/javascript'>\r\n",
       "async function probeAddresses(probingAddresses) {\r\n",
       "    function timeout(ms, promise) {\r\n",
       "        return new Promise(function (resolve, reject) {\r\n",
       "            setTimeout(function () {\r\n",
       "                reject(new Error('timeout'))\r\n",
       "            }, ms)\r\n",
       "            promise.then(resolve, reject)\r\n",
       "        })\r\n",
       "    }\r\n",
       "\r\n",
       "    if (Array.isArray(probingAddresses)) {\r\n",
       "        for (let i = 0; i < probingAddresses.length; i++) {\r\n",
       "\r\n",
       "            let rootUrl = probingAddresses[i];\r\n",
       "\r\n",
       "            if (!rootUrl.endsWith('/')) {\r\n",
       "                rootUrl = `${rootUrl}/`;\r\n",
       "            }\r\n",
       "\r\n",
       "            try {\r\n",
       "                let response = await timeout(1000, fetch(`${rootUrl}discovery`, {\r\n",
       "                    method: 'POST',\r\n",
       "                    cache: 'no-cache',\r\n",
       "                    mode: 'cors',\r\n",
       "                    timeout: 1000,\r\n",
       "                    headers: {\r\n",
       "                        'Content-Type': 'text/plain'\r\n",
       "                    },\r\n",
       "                    body: probingAddresses[i]\r\n",
       "                }));\r\n",
       "\r\n",
       "                if (response.status == 200) {\r\n",
       "                    return rootUrl;\r\n",
       "                }\r\n",
       "            }\r\n",
       "            catch (e) { }\r\n",
       "        }\r\n",
       "    }\r\n",
       "}\r\n",
       "\r\n",
       "function loadDotnetInteractiveApi() {\r\n",
       "    probeAddresses([\"http://10.0.0.65:2048/\", \"http://127.0.0.1:2048/\"])\r\n",
       "        .then((root) => {\r\n",
       "        // use probing to find host url and api resources\r\n",
       "        // load interactive helpers and language services\r\n",
       "        let dotnetInteractiveRequire = require.config({\r\n",
       "        context: '20692.Microsoft.DotNet.Interactive.Http.HttpPort',\r\n",
       "                paths:\r\n",
       "            {\r\n",
       "                'dotnet-interactive': `${root}resources`\r\n",
       "                }\r\n",
       "        }) || require;\r\n",
       "\r\n",
       "            window.dotnetInteractiveRequire = dotnetInteractiveRequire;\r\n",
       "\r\n",
       "            window.configureRequireFromExtension = function(extensionName, extensionCacheBuster) {\r\n",
       "                let paths = {};\r\n",
       "                paths[extensionName] = `${root}extensions/${extensionName}/resources/`;\r\n",
       "                \r\n",
       "                let internalRequire = require.config({\r\n",
       "                    context: extensionCacheBuster,\r\n",
       "                    paths: paths,\r\n",
       "                    urlArgs: `cacheBuster=${extensionCacheBuster}`\r\n",
       "                    }) || require;\r\n",
       "\r\n",
       "                return internalRequire\r\n",
       "            };\r\n",
       "        \r\n",
       "            dotnetInteractiveRequire([\r\n",
       "                    'dotnet-interactive/dotnet-interactive'\r\n",
       "                ],\r\n",
       "                function (dotnet) {\r\n",
       "                    dotnet.init(window);\r\n",
       "                },\r\n",
       "                function (error) {\r\n",
       "                    console.log(error);\r\n",
       "                }\r\n",
       "            );\r\n",
       "        })\r\n",
       "        .catch(error => {console.log(error);});\r\n",
       "    }\r\n",
       "\r\n",
       "// ensure `require` is available globally\r\n",
       "if ((typeof(require) !==  typeof(Function)) || (typeof(require.config) !== typeof(Function))) {\r\n",
       "    let require_script = document.createElement('script');\r\n",
       "    require_script.setAttribute('src', 'https://cdnjs.cloudflare.com/ajax/libs/require.js/2.3.6/require.min.js');\r\n",
       "    require_script.setAttribute('type', 'text/javascript');\r\n",
       "    \r\n",
       "    \r\n",
       "    require_script.onload = function() {\r\n",
       "        loadDotnetInteractiveApi();\r\n",
       "    };\r\n",
       "\r\n",
       "    document.getElementsByTagName('head')[0].appendChild(require_script);\r\n",
       "}\r\n",
       "else {\r\n",
       "    loadDotnetInteractiveApi();\r\n",
       "}\r\n",
       "\r\n",
       "    </script>\r\n",
       "</div>"
      ]
     },
     "metadata": {},
     "output_type": "display_data"
    },
    {
     "name": "stdout",
     "output_type": "stream",
     "text": [
      "Longest word:-Supercalifragilisticexpialidocious\n",
      "Longest word:-Bababadalgharaghtakamminarronnkonn\n"
     ]
    }
   ],
   "source": [
    "\n",
    "string word1 = \"Supercalifragilisticexpialidocious\";\n",
    "string word2 = \"Honorificabilitudinitatibus\";\n",
    "string word3 = \"Bababadalgharaghtakamminarronnkonn\";\n",
    "\n",
    "string[] words = new string[] { word1, word2, word3 };\n",
    "List<string> longestWords = new List<string>();//if multiple words with same length exists then we create a list of those words\n",
    "int maxLength = word1.Length; \n",
    "\n",
    "//we can find the max length of given words and later declare all words with maximum length as longest words\n",
    "if (word2.Length > maxLength)\n",
    "{\n",
    "    maxLength = word2.Length;\n",
    "}\n",
    "\n",
    "if (word3.Length > maxLength)\n",
    "{\n",
    "    maxLength = word3.Length;\n",
    "}\n",
    "\n",
    "foreach (string word in words)\n",
    "{\n",
    "    if (word.Length == maxLength)\n",
    "    {\n",
    "        longestWords.Add(word);\n",
    "    }\n",
    "}\n",
    "foreach (string word in longestWords )\n",
    "{\n",
    "Console.WriteLine($\"Longest word:-{word}\");\n",
    "}\n"
   ]
  },
  {
   "cell_type": "markdown",
   "id": "cf57510b-591b-44d3-8aff-fc858c37671b",
   "metadata": {},
   "source": [
    "d. Which composer comes first in the dictionary: 'Berlioz', 'Borodin', 'Brian',\n",
    "'Bartok', 'Bellini', 'Buxtehude', 'Bernstein'. Which one comes last?"
   ]
  },
  {
   "cell_type": "code",
   "execution_count": 10,
   "id": "761c7f02-1c7a-4b3d-afb2-a4c6285c1584",
   "metadata": {},
   "outputs": [
    {
     "name": "stdout",
     "output_type": "stream",
     "text": [
      "First composer : Bartok\n",
      "Last composer : Buxtehude\n"
     ]
    }
   ],
   "source": [
    "string[] composer = { \"Berlioz\", \"Borodin\", \"Brian\", \"Bartok\", \"Bellini\", \"Buxtehude\", \"Bernstein\" };\n",
    "\n",
    "Array.Sort(composer);\n",
    "\n",
    "string firstComposer = composer[0];\n",
    "\n",
    "int length=composer.Length;\n",
    "string lastComposer = composer[length - 1];\n",
    "\n",
    "Console.WriteLine(\"First composer : \" + firstComposer);\n",
    "\n",
    "Console.WriteLine(\"Last composer : \" + lastComposer);\n"
   ]
  },
  {
   "cell_type": "markdown",
   "id": "8a2ed2e4-ebaa-4bba-ab1e-0dac8e9b6552",
   "metadata": {},
   "source": [
    "Question 3 C#\n",
    "Implement function triangleArea(a,b,c) that takes as input the lengths of the 3\n",
    "sides of a triangle and returns the area of the triangle. By Heron's formula, the area\n",
    "of a triangle with side lengths a, b, and c is\n",
    "s(s - a)(s -b)(s -c), where\n",
    "s = (a +b + c) /2.>>> triangleArea(2,2,2)\n",
    "1.7320508075688772"
   ]
  },
  {
   "cell_type": "code",
   "execution_count": 13,
   "id": "c2b9623a-ed59-4d72-9cd5-f291f514267b",
   "metadata": {},
   "outputs": [
    {
     "name": "stdout",
     "output_type": "stream",
     "text": [
      "The area of the triangle is: 1.7320508075688772\n"
     ]
    }
   ],
   "source": [
    "\n",
    "/*Console.WriteLine(\"length of side 'a':\");\n",
    "double a = Convert.ToDouble(Console.ReadLine());\n",
    "Console.WriteLine(\"length of side 'b':\");\n",
    "double b = Convert.ToDouble(Console.ReadLine());\n",
    "Console.WriteLine(\"length of side 'c':\");\n",
    "double c = Convert.ToDouble(Console.ReadLine());*/\n",
    "\n",
    "/* I was unable to use the readlinecommand to fetch output from user . hence manually assigned value in the code itself */\n",
    "\n",
    "double a=2.0;\n",
    "double b=2.0;\n",
    "double c=2.0;\n",
    "\n",
    "\n",
    "        \n",
    "    \n",
    "        double s = (a + b + c) / 2.0;\n",
    "\n",
    "        // Calculate the area using Heron's formula\n",
    "        double area = Math.Sqrt(s * (s - a) * (s - b) * (s - c));\n",
    " Console.WriteLine(\"The area of the triangle is: \" + area);\n"
   ]
  },
  {
   "cell_type": "markdown",
   "id": "af687ef9-18bc-4aeb-a041-3f92f8601651",
   "metadata": {},
   "source": [
    "Question 4 C#\n",
    "Write a program in C# Sharp to separate odd and even integers in separate arrays.\n",
    "Go to the editor\n",
    "Test Data :\n",
    "Input the number of elements to be stored in the array :5\n",
    "Input 5 elements in the array :\n",
    "element - 0 : 25\n",
    "element - 1 : 47\n",
    "element - 2 : 42\n",
    "element - 3 : 56\n",
    "element - 4 : 32\n",
    "Expected Output:\n",
    "The Even elements are:\n",
    "42 56 32\n",
    "The Odd elements are :\n",
    "25 47"
   ]
  },
  {
   "cell_type": "code",
   "execution_count": 3,
   "id": "fb92aa79-0209-42ba-9326-9a51a8fd8631",
   "metadata": {},
   "outputs": [
    {
     "name": "stdout",
     "output_type": "stream",
     "text": [
      "The Even elements are: 42 56 32 \n",
      "\n",
      "The Odd elements are: 25 47 "
     ]
    }
   ],
   "source": [
    "\n",
    "\n",
    "int n = 5;\n",
    "\n",
    "int[] inputArray = new int[n];\n",
    "\n",
    "int[] evenArray = new int[n];\n",
    "int[] oddArray = new int[n];\n",
    "\n",
    "\n",
    "inputArray[0] = 25;\n",
    "\n",
    "inputArray[1] = 47;\n",
    "inputArray[2] = 42;\n",
    "\n",
    "inputArray[3] = 56;\n",
    "inputArray[4] = 32;\n",
    "\n",
    "int evenCount = 0;\n",
    "int oddCount = 0;\n",
    "\n",
    "foreach (int num in inputArray)\n",
    "{\n",
    "    if (num % 2 == 0)\n",
    "    {\n",
    "        evenArray[evenCount] = num;//.Add() seems to be creating some issue. hemce I used this approach. \n",
    "                                   // aslo keeping evencount values help in writing logic to extract only the even numbers. Same applies for oldCount\n",
    "        evenCount++;\n",
    "    }\n",
    "    else\n",
    "    {\n",
    "        oddArray[oddCount] = num;\n",
    "        oddCount++; }}\n",
    "\n",
    "Console.Write(\"The Even elements are: \");\n",
    "//foreach (int even in evenArray){Console.Write(even+ \" \");}\n",
    "for (int i = 0; i < evenCount; i++)\n",
    "{\n",
    "    Console.Write(evenArray[i] + \" \");\n",
    "}\n",
    "\n",
    "\n",
    "Console.WriteLine();\n",
    "Console.WriteLine();\n",
    " Console.Write(\"The Odd elements are: \");\n",
    "for (int i = 0; i < oddCount; i++)\n",
    "{\n",
    "    Console.Write(oddArray[i] + \" \"); }\n"
   ]
  },
  {
   "cell_type": "markdown",
   "id": "7aba6067",
   "metadata": {},
   "source": [
    "Question 5 C#\n",
    "a. Write a function inside(x,y,x1,y1,x2,y2) that returns True or False depending on whether the point (x,y) lies in the rectangle with lower left corner (x1,y1) and upper right corner (x2,y2).>>> inside(1,1,0,0,2,3)\n",
    "True>>> inside(-1,-1,0,0,2,3)False"
   ]
  },
  {
   "cell_type": "code",
   "execution_count": 44,
   "id": "a32e72f2-0f9f-4b5a-98df-b947428cddce",
   "metadata": {},
   "outputs": [
    {
     "name": "stdout",
     "output_type": "stream",
     "text": [
      "Is (1,1) in Rectangle 1: True\n",
      "Is (1,1) in Rectangle 2: False\n"
     ]
    }
   ],
   "source": [
    "static bool Inside(double x, double y, double x1, double y1, double x2, double y2)\n",
    "    {\n",
    "        return x >= x1 && x <= x2 && y >= y1 && y <= y2;\n",
    "    }\n",
    "\n",
    "bool isInRectangle1 = Inside(1,1,0,0,2,3);\n",
    "bool isInRectangle2 = Inside(-1,-1,0,0,2,3);\n",
    "\n",
    "Console.WriteLine(\"Is (1,1) in Rectangle 1: \" + isInRectangle1); \n",
    "Console.WriteLine(\"Is (1,1) in Rectangle 2: \" + isInRectangle2); "
   ]
  },
  {
   "cell_type": "markdown",
   "id": "a5187544-ca1a-4ead-8b7a-71233ac3c457",
   "metadata": {},
   "source": [
    "b. Use function inside() from part a. to write an expression that tests whether the point (1,1) lies in both of the following rectangles: \n",
    "one with lower left corner (0.3, 0.5) and upper right corner (1.1, 0.7) and the other with lower left corner (0.5, 0.2) and upper right corner (1.1, 2)."
   ]
  },
  {
   "cell_type": "code",
   "execution_count": 45,
   "id": "53e5051b-6b0e-4dac-97e1-247c8ea7f81f",
   "metadata": {},
   "outputs": [
    {
     "name": "stdout",
     "output_type": "stream",
     "text": [
      "Is (1,1) in Rectangle 1: False\n",
      "Is (1,1) in Rectangle 2: True\n"
     ]
    }
   ],
   "source": [
    "Console.WriteLine(\"Is (1,1) in Rectangle 1: \" + Inside(1,1,0.3,0.5,1.1,0.7)); \n",
    "Console.WriteLine(\"Is (1,1) in Rectangle 2: \" + Inside(1,1,0.5,0.2,1.1,2)); \n"
   ]
  },
  {
   "cell_type": "code",
   "execution_count": null,
   "id": "d34a0c09-35d5-4590-a9c2-9fc671775e54",
   "metadata": {},
   "outputs": [],
   "source": []
  }
 ],
 "metadata": {
  "kernelspec": {
   "display_name": ".NET (C#)",
   "language": "C#",
   "name": ".net-csharp"
  },
  "language_info": {
   "file_extension": ".cs",
   "mimetype": "text/x-csharp",
   "name": "C#",
   "pygments_lexer": "csharp",
   "version": "11.0"
  }
 },
 "nbformat": 4,
 "nbformat_minor": 5
}
