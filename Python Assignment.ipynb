{
 "cells": [
  {
   "cell_type": "markdown",
   "id": "b9ed435c",
   "metadata": {},
   "source": [
    "Question 6 Python\n",
    "You can turn a word into pig-Latin using the following two rules (simplified):\n",
    "• If the word starts with a consonant, move that letter to the end and append 'ay'. For example, 'happy' becomes 'appyhay' and 'pencil' becomes 'encilpay'.\n",
    "• If the word starts with a vowel, simply append 'way' to the end of the word. For example, 'enter' becomes 'enterway' and 'other' becomes 'otherway' . For our purposes, there are 5 vowels: a, e, i, o, u (so we count y as a consonant).\n",
    "Write a function pig() that takes a word (i.e., a string) as input and returns its pig-Latin form. Your function should still work if the input word contains upper case characters. Your output should always be lower case however.>>> pig('happy')\n",
    "'appyhay'>>> pig('Enter')\n",
    "'enterway'"
   ]
  },
  {
   "cell_type": "code",
   "execution_count": 2,
   "id": "c18f2312",
   "metadata": {},
   "outputs": [
    {
     "name": "stdout",
     "output_type": "stream",
     "text": [
      "appyhay\n",
      "enterway\n"
     ]
    }
   ],
   "source": [
    "def pig(word):\n",
    "    # case conversion\n",
    "    word = word.lower()\n",
    "    \n",
    "    vowels = \"aeiou\"\n",
    "    \n",
    "    if word[0] not in vowels:\n",
    "        # Move  first consonant to the end and append 'ay'\n",
    "        return word[1:] + word[0] + 'ay'\n",
    "    else:\n",
    "       # append 'way'\n",
    "        return word + 'way'\n",
    "\n",
    "\n",
    "print(pig('happy')) \n",
    "print(pig('Enter'))  \n",
    "\n"
   ]
  },
  {
   "cell_type": "markdown",
   "id": "8c6c3fff",
   "metadata": {},
   "source": [
    "Question 7 Python\n",
    "File bloodtype1.txt records blood-types of patients (A, B, AB, O or OO) at a clinic. Write a function bldcount() that reads the file with name name and reports (i.e., prints) how many patients there are in each bloodtype.>>> bldcount('bloodtype.txt')\n",
    "There are 10 patients of blood type A.\n",
    "There is one patient of blood type B.\n",
    "There are 10 patients of blood type AB.\n",
    "There are 12 patients of blood type O.\n",
    "There are no patients of blood type OO."
   ]
  },
  {
   "cell_type": "code",
   "execution_count": 76,
   "id": "94e42e18",
   "metadata": {},
   "outputs": [
    {
     "name": "stdout",
     "output_type": "stream",
     "text": [
      "Blood type A: 15 patients\n",
      "Blood type B: 1 patients\n",
      "Blood type AB: 13 patients\n",
      "Blood type O: 15 patients\n",
      "Blood type OO: 0 patients\n"
     ]
    }
   ],
   "source": [
    "def bldcount(filename):\n",
    "    # A dictionary is created with a key vaklue pair of blood type and its count\n",
    "    blood_type_count = {'A': 0, 'B': 0, 'AB': 0, 'O': 0, 'OO': 0}\n",
    "    \n",
    "    try:\n",
    "        \n",
    "        with open(filename, 'r') as file:\n",
    "            #file contents are stored into data\n",
    "            data = file.read()\n",
    "            \n",
    "           \n",
    "            blood_types = data.split()\n",
    "            \n",
    "            # Count the occurrence of each blood type\n",
    "            for blood in blood_types:# for each bloodtype found in the file, the blood count is incread by 1 in the dictionary\n",
    "                if blood in blood_type_count:\n",
    "                    blood_type_count[blood] += 1\n",
    "    \n",
    "        # Print the count of each blood type\n",
    "        for bloo, count in blood_type_count.items():\n",
    "            print(f\"Blood type {bloo}: {count} patients\")\n",
    "    \n",
    "    except notFoundError:\n",
    "        print(\"file not found.\")\n",
    "\n",
    "# Calling the function on the file saved in my local\n",
    "bldcount('C:\\\\Users\\\\sraj\\\\Pandas\\\\pandas (2)\\\\pandas\\\\bloodtype1.txt')\n"
   ]
  },
  {
   "cell_type": "markdown",
   "id": "92d5cf6d",
   "metadata": {},
   "source": [
    "Question 8 Python\n",
    "Write a function curconv() that takes as input:\n",
    "1. a currency represented using a string (e.g., 'JPY' for the Japanese Yen or 'EUR' for the Euro)\n",
    "2. an amount\n",
    "and then converts and returns the amount in US dollars.>>> curconv('EUR', 100)\n",
    "122.96544>>> curconv('JPY', 100) 1.241401\n",
    "The currency rates you will need are stored in file currencies.txt:"
   ]
  },
  {
   "cell_type": "code",
   "execution_count": 73,
   "id": "37306d4f",
   "metadata": {},
   "outputs": [
    {
     "name": "stdout",
     "output_type": "stream",
     "text": [
      "122.96544\n",
      "1.241401\n"
     ]
    }
   ],
   "source": [
    "#I have used pandas library to access the file and create data frame\n",
    "import pandas as pd\n",
    "\n",
    "def curconv(currency, amount):\n",
    "    \n",
    "        # Read the currency exchange rates from the file into a DataFrame f. split into columns and\n",
    "        #later make currency column index of this dataframe\n",
    "        f = pd.read_csv('C:\\\\Users\\\\sraj\\\\Pandas\\\\pandas (2)\\\\pandas\\\\currencies.txt', sep='\\t', header=None,\n",
    "                         names=['Currency', 'Rate', 'Name'], decimal=',')\n",
    "\n",
    "        f.set_index('Currency', inplace=True)\n",
    "        \n",
    "        # Check if the provided currency code is in the dataframe\n",
    "        if currency in f.index:\n",
    "            \n",
    "            rate = float(f.loc[currency, 'Rate'])#locate the rate for that currency\n",
    "            # Perform the conversion to USD\n",
    "            usd_amount = amount * rate\n",
    "            \n",
    "            return usd_amount\n",
    "        \n",
    "        else:\n",
    "            return f\"'{currency}' not found.\"\n",
    "\n",
    "print(curconv('EUR', 100))  \n",
    "print(curconv('JPY', 100)) \n"
   ]
  },
  {
   "cell_type": "markdown",
   "id": "efcd3730",
   "metadata": {},
   "source": [
    "Question 9 Python\n",
    "Each of the following will cause an exception (an error). Identify what type of exception each will cause."
   ]
  },
  {
   "cell_type": "code",
   "execution_count": null,
   "id": "6239d5f9",
   "metadata": {},
   "outputs": [],
   "source": [
    "Trying to add incompatible variables, as in adding 6 + ‘a’--->TypeError : unsupported operand type(s) for +: 'int' and 'str'\n",
    "Referring to the 12th item of a list that has only 10 items-->IndexError :list index out of range\n",
    "Using a value that is out of range for a function’s input, such as calling math.sqrt( 1.0)-->ValueError: math domain error\n",
    "Using an undeclared variable, such as p rint(x) when x has not been defined-->NameError: name 'x' is not defined\n",
    "Trying to open a file that does not exist, such as mistyping the file name or looking in the wrong directory.-->FileNotFoundError"
   ]
  },
  {
   "cell_type": "markdown",
   "id": "e80080db",
   "metadata": {},
   "source": [
    "Question 10 Python\n",
    "Encryption is the process of hiding the meaning of a text by substituting letters in the message with other letters, according to some system. If the process is successful, no one but the intended recipient can understand the encrypted message. Cryptanalysis refers to attempts to undo the encryption, even if some details of the encryption are unknown (for example, if an encrypted message has been intercepted). The first step of cryptanalysis is often to build up a table of letter frequencies in the encrypted text. Assume that the string letters is already defined as 'abcdefghijklmnopqrstuvwxyz'. Write a function called frequencies() that takes a string as its only parameter, and returns a list of integers, showing the number of times each character appears in the text. Your function may ignore any characters that are not in letters.>>> frequencies('The quick red fox got bored and went home.')\n",
    "[1, 1, 1, 3, 5, 1, 1, 2, 1, 0, 1, 0, 1, 2, 4, 0, 1, 2, 0, 2, 1, 0, 1, 1, 0, 0] >>> frequencies('apple')"
   ]
  },
  {
   "cell_type": "code",
   "execution_count": 52,
   "id": "e130296d",
   "metadata": {},
   "outputs": [
    {
     "name": "stdout",
     "output_type": "stream",
     "text": [
      "[1, 1, 1, 3, 5, 1, 1, 2, 1, 0, 1, 0, 1, 2, 4, 0, 1, 2, 0, 3, 1, 0, 1, 1, 0, 0]\n",
      "[1, 0, 0, 0, 1, 0, 0, 0, 0, 0, 0, 1, 0, 0, 0, 2, 0, 0, 0, 0, 0, 0, 0, 0, 0, 0]\n"
     ]
    }
   ],
   "source": [
    "def frequencies(texts):\n",
    "    letters = 'abcdefghijklmnopqrstuvwxyz'\n",
    "    \n",
    "    # list with frequencies for the 26 letters\n",
    "    frequency = [0] * 26\n",
    "    \n",
    "    #case conversion\n",
    "    texts = texts.lower()\n",
    "    for char in texts:\n",
    "        if char in letters:\n",
    "            \n",
    "            index = letters.index(char)\n",
    "            frequency[index] += 1\n",
    "    \n",
    "    return frequency\n",
    "\n",
    "\n",
    "print(frequencies('The quick red fox got bored and went home.'))\n",
    "print(frequencies('apple'))\n",
    "\n"
   ]
  },
  {
   "cell_type": "code",
   "execution_count": null,
   "id": "526cfe2c",
   "metadata": {},
   "outputs": [],
   "source": []
  }
 ],
 "metadata": {
  "kernelspec": {
   "display_name": "Python 3 (ipykernel)",
   "language": "python",
   "name": "python3"
  },
  "language_info": {
   "codemirror_mode": {
    "name": "ipython",
    "version": 3
   },
   "file_extension": ".py",
   "mimetype": "text/x-python",
   "name": "python",
   "nbconvert_exporter": "python",
   "pygments_lexer": "ipython3",
   "version": "3.10.9"
  }
 },
 "nbformat": 4,
 "nbformat_minor": 5
}
